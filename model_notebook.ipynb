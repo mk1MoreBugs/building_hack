{
 "cells": [
  {
   "cell_type": "markdown",
   "id": "8a0e81cb-e8dd-4246-9bf6-1e135d1ac4bd",
   "metadata": {},
   "source": [
    "https://www.kaggle.com/datasets/muhammetzahitaydn/hardhat-vest-dataset-v3/"
   ]
  },
  {
   "cell_type": "code",
   "execution_count": 32,
   "id": "098009ff-fbdc-4789-8716-c6c9032128fe",
   "metadata": {},
   "outputs": [],
   "source": [
    "import numpy as np\n",
    "import torch\n",
    "import torch.optim as optim\n",
    "import torch.nn as nn\n",
    "import torch.nn.functional as F\n",
    "from torch.utils.data import TensorDataset, DataLoader\n",
    "import pickle\n",
    "from sklearn.metrics import classification_report\n",
    "from PIL import Image\n",
    "import matplotlib.pyplot as plt\n",
    "from tqdm.notebook import tqdm\n",
    "%matplotlib inline"
   ]
  },
  {
   "cell_type": "code",
   "execution_count": 2,
   "id": "eb078f9a-9caa-4a8e-95b6-25fdd05fcf66",
   "metadata": {},
   "outputs": [],
   "source": [
    "from os import listdir\n",
    "from os.path import isfile, join"
   ]
  },
  {
   "cell_type": "code",
   "execution_count": 184,
   "id": "c5ac65e3-7b5c-47d3-a37b-7dab0e438bce",
   "metadata": {},
   "outputs": [
    {
     "name": "stdout",
     "output_type": "stream",
     "text": [
      "Collecting ultralytics\n",
      "  Downloading ultralytics-8.2.32-py3-none-any.whl.metadata (41 kB)\n",
      "\u001b[2K     \u001b[38;2;114;156;31m━━━━━━━━━━━━━━━━━━━━━━━━━━━━━━━━━━━━━━━\u001b[0m \u001b[32m41.2/41.2 kB\u001b[0m \u001b[31m153.5 kB/s\u001b[0m eta \u001b[36m0:00:00\u001b[0m kB/s\u001b[0m eta \u001b[36m0:00:01\u001b[0m\n",
      "\u001b[?25hRequirement already satisfied: matplotlib>=3.3.0 in /home/mk1MoreBugs/anaconda3/lib/python3.11/site-packages (from ultralytics) (3.8.4)\n",
      "Collecting opencv-python>=4.6.0 (from ultralytics)\n",
      "  Downloading opencv_python-4.10.0.82-cp37-abi3-manylinux_2_17_x86_64.manylinux2014_x86_64.whl.metadata (20 kB)\n",
      "Requirement already satisfied: pillow>=7.1.2 in /home/mk1MoreBugs/anaconda3/lib/python3.11/site-packages (from ultralytics) (10.3.0)\n",
      "Requirement already satisfied: pyyaml>=5.3.1 in /home/mk1MoreBugs/anaconda3/lib/python3.11/site-packages (from ultralytics) (6.0.1)\n",
      "Requirement already satisfied: requests>=2.23.0 in /home/mk1MoreBugs/anaconda3/lib/python3.11/site-packages (from ultralytics) (2.32.2)\n",
      "Requirement already satisfied: scipy>=1.4.1 in /home/mk1MoreBugs/anaconda3/lib/python3.11/site-packages (from ultralytics) (1.13.1)\n",
      "Requirement already satisfied: torch>=1.8.0 in /home/mk1MoreBugs/anaconda3/lib/python3.11/site-packages (from ultralytics) (2.3.1)\n",
      "Requirement already satisfied: torchvision>=0.9.0 in /home/mk1MoreBugs/anaconda3/lib/python3.11/site-packages (from ultralytics) (0.18.1)\n",
      "Requirement already satisfied: tqdm>=4.64.0 in /home/mk1MoreBugs/anaconda3/lib/python3.11/site-packages (from ultralytics) (4.66.4)\n",
      "Requirement already satisfied: psutil in /home/mk1MoreBugs/anaconda3/lib/python3.11/site-packages (from ultralytics) (5.9.0)\n",
      "Requirement already satisfied: py-cpuinfo in /home/mk1MoreBugs/anaconda3/lib/python3.11/site-packages (from ultralytics) (9.0.0)\n",
      "Requirement already satisfied: pandas>=1.1.4 in /home/mk1MoreBugs/anaconda3/lib/python3.11/site-packages (from ultralytics) (2.2.2)\n",
      "Requirement already satisfied: seaborn>=0.11.0 in /home/mk1MoreBugs/anaconda3/lib/python3.11/site-packages (from ultralytics) (0.13.2)\n",
      "Collecting ultralytics-thop>=0.2.5 (from ultralytics)\n",
      "  Downloading ultralytics_thop-0.2.8-py3-none-any.whl.metadata (8.5 kB)\n",
      "Requirement already satisfied: contourpy>=1.0.1 in /home/mk1MoreBugs/anaconda3/lib/python3.11/site-packages (from matplotlib>=3.3.0->ultralytics) (1.2.0)\n",
      "Requirement already satisfied: cycler>=0.10 in /home/mk1MoreBugs/anaconda3/lib/python3.11/site-packages (from matplotlib>=3.3.0->ultralytics) (0.11.0)\n",
      "Requirement already satisfied: fonttools>=4.22.0 in /home/mk1MoreBugs/anaconda3/lib/python3.11/site-packages (from matplotlib>=3.3.0->ultralytics) (4.51.0)\n",
      "Requirement already satisfied: kiwisolver>=1.3.1 in /home/mk1MoreBugs/anaconda3/lib/python3.11/site-packages (from matplotlib>=3.3.0->ultralytics) (1.4.4)\n",
      "Requirement already satisfied: numpy>=1.21 in /home/mk1MoreBugs/anaconda3/lib/python3.11/site-packages (from matplotlib>=3.3.0->ultralytics) (1.26.4)\n",
      "Requirement already satisfied: packaging>=20.0 in /home/mk1MoreBugs/anaconda3/lib/python3.11/site-packages (from matplotlib>=3.3.0->ultralytics) (23.2)\n",
      "Requirement already satisfied: pyparsing>=2.3.1 in /home/mk1MoreBugs/anaconda3/lib/python3.11/site-packages (from matplotlib>=3.3.0->ultralytics) (3.0.9)\n",
      "Requirement already satisfied: python-dateutil>=2.7 in /home/mk1MoreBugs/anaconda3/lib/python3.11/site-packages (from matplotlib>=3.3.0->ultralytics) (2.9.0.post0)\n",
      "Requirement already satisfied: pytz>=2020.1 in /home/mk1MoreBugs/anaconda3/lib/python3.11/site-packages (from pandas>=1.1.4->ultralytics) (2024.1)\n",
      "Requirement already satisfied: tzdata>=2022.7 in /home/mk1MoreBugs/anaconda3/lib/python3.11/site-packages (from pandas>=1.1.4->ultralytics) (2023.3)\n",
      "Requirement already satisfied: charset-normalizer<4,>=2 in /home/mk1MoreBugs/anaconda3/lib/python3.11/site-packages (from requests>=2.23.0->ultralytics) (2.0.4)\n",
      "Requirement already satisfied: idna<4,>=2.5 in /home/mk1MoreBugs/anaconda3/lib/python3.11/site-packages (from requests>=2.23.0->ultralytics) (3.7)\n",
      "Requirement already satisfied: urllib3<3,>=1.21.1 in /home/mk1MoreBugs/anaconda3/lib/python3.11/site-packages (from requests>=2.23.0->ultralytics) (2.2.1)\n",
      "Requirement already satisfied: certifi>=2017.4.17 in /home/mk1MoreBugs/anaconda3/lib/python3.11/site-packages (from requests>=2.23.0->ultralytics) (2024.6.2)\n",
      "Requirement already satisfied: filelock in /home/mk1MoreBugs/anaconda3/lib/python3.11/site-packages (from torch>=1.8.0->ultralytics) (3.13.1)\n",
      "Requirement already satisfied: typing-extensions>=4.8.0 in /home/mk1MoreBugs/anaconda3/lib/python3.11/site-packages (from torch>=1.8.0->ultralytics) (4.11.0)\n",
      "Requirement already satisfied: sympy in /home/mk1MoreBugs/anaconda3/lib/python3.11/site-packages (from torch>=1.8.0->ultralytics) (1.12)\n",
      "Requirement already satisfied: networkx in /home/mk1MoreBugs/anaconda3/lib/python3.11/site-packages (from torch>=1.8.0->ultralytics) (3.2.1)\n",
      "Requirement already satisfied: jinja2 in /home/mk1MoreBugs/anaconda3/lib/python3.11/site-packages (from torch>=1.8.0->ultralytics) (3.1.4)\n",
      "Requirement already satisfied: fsspec in /home/mk1MoreBugs/anaconda3/lib/python3.11/site-packages (from torch>=1.8.0->ultralytics) (2024.3.1)\n",
      "Requirement already satisfied: six>=1.5 in /home/mk1MoreBugs/anaconda3/lib/python3.11/site-packages (from python-dateutil>=2.7->matplotlib>=3.3.0->ultralytics) (1.16.0)\n",
      "Requirement already satisfied: MarkupSafe>=2.0 in /home/mk1MoreBugs/anaconda3/lib/python3.11/site-packages (from jinja2->torch>=1.8.0->ultralytics) (2.1.3)\n",
      "Requirement already satisfied: mpmath>=0.19 in /home/mk1MoreBugs/anaconda3/lib/python3.11/site-packages (from sympy->torch>=1.8.0->ultralytics) (1.3.0)\n",
      "Downloading ultralytics-8.2.32-py3-none-any.whl (780 kB)\n",
      "\u001b[2K   \u001b[38;2;114;156;31m━━━━━━━━━━━━━━━━━━━━━━━━━━━━━━━━━━━━━━━\u001b[0m \u001b[32m780.6/780.6 kB\u001b[0m \u001b[31m599.4 kB/s\u001b[0m eta \u001b[36m0:00:00\u001b[0mm eta \u001b[36m0:00:01\u001b[0m0:01\u001b[0m:01\u001b[0m\n",
      "\u001b[?25hDownloading opencv_python-4.10.0.82-cp37-abi3-manylinux_2_17_x86_64.manylinux2014_x86_64.whl (62.5 MB)\n",
      "\u001b[2K   \u001b[38;2;114;156;31m━━━━━━━━━━━━━━━━━━━━━━━━━━━━━━━━━━━━━━━━\u001b[0m \u001b[32m62.5/62.5 MB\u001b[0m \u001b[31m2.0 MB/s\u001b[0m eta \u001b[36m0:00:00\u001b[0mm eta \u001b[36m0:00:01\u001b[0m[36m0:00:01\u001b[0m\n",
      "\u001b[?25hDownloading ultralytics_thop-0.2.8-py3-none-any.whl (25 kB)\n",
      "Installing collected packages: opencv-python, ultralytics-thop, ultralytics\n",
      "Successfully installed opencv-python-4.10.0.82 ultralytics-8.2.32 ultralytics-thop-0.2.8\n"
     ]
    }
   ],
   "source": [
    "!pip install -U ultralytics"
   ]
  },
  {
   "cell_type": "code",
   "execution_count": 20,
   "id": "75310911-4fb3-4f32-98d7-3e435c3797ac",
   "metadata": {},
   "outputs": [],
   "source": [
    "from ultralytics import YOLO"
   ]
  },
  {
   "cell_type": "code",
   "execution_count": 21,
   "id": "7cc6c81e-dfcd-4d82-bd1f-4c1a0f15509d",
   "metadata": {},
   "outputs": [
    {
     "name": "stdout",
     "output_type": "stream",
     "text": [
      "YOLOv8n summary: 225 layers, 3157200 parameters, 0 gradients, 8.9 GFLOPs\n",
      "Ultralytics YOLOv8.2.32 🚀 Python-3.11.7 torch-2.3.1 CPU (AMD Ryzen 5 5500U with Radeon Graphics)\n",
      "\u001b[34m\u001b[1mengine/trainer: \u001b[0mtask=detect, mode=train, model=yolov8n.pt, data=../dataset.yaml, epochs=1, time=None, patience=100, batch=16, imgsz=640, save=True, save_period=-1, cache=False, device=None, workers=8, project=None, name=train9, exist_ok=False, pretrained=True, optimizer=auto, verbose=True, seed=0, deterministic=True, single_cls=False, rect=False, cos_lr=False, close_mosaic=10, resume=False, amp=True, fraction=1.0, profile=False, freeze=None, multi_scale=False, overlap_mask=True, mask_ratio=4, dropout=0.0, val=True, split=val, save_json=False, save_hybrid=False, conf=None, iou=0.7, max_det=300, half=False, dnn=False, plots=True, source=None, vid_stride=1, stream_buffer=False, visualize=False, augment=False, agnostic_nms=False, classes=None, retina_masks=False, embed=None, show=False, save_frames=False, save_txt=False, save_conf=False, save_crop=False, show_labels=True, show_conf=True, show_boxes=True, line_width=None, format=torchscript, keras=False, optimize=False, int8=False, dynamic=False, simplify=False, opset=None, workspace=4, nms=False, lr0=0.01, lrf=0.01, momentum=0.937, weight_decay=0.0005, warmup_epochs=3.0, warmup_momentum=0.8, warmup_bias_lr=0.1, box=7.5, cls=0.5, dfl=1.5, pose=12.0, kobj=1.0, label_smoothing=0.0, nbs=64, hsv_h=0.015, hsv_s=0.7, hsv_v=0.4, degrees=0.0, translate=0.1, scale=0.5, shear=0.0, perspective=0.0, flipud=0.0, fliplr=0.5, bgr=0.0, mosaic=1.0, mixup=0.0, copy_paste=0.0, auto_augment=randaugment, erasing=0.4, crop_fraction=1.0, cfg=None, tracker=botsort.yaml, save_dir=runs/detect/train9\n",
      "Overriding model.yaml nc=80 with nc=11\n",
      "\n",
      "                   from  n    params  module                                       arguments                     \n",
      "  0                  -1  1       464  ultralytics.nn.modules.conv.Conv             [3, 16, 3, 2]                 \n",
      "  1                  -1  1      4672  ultralytics.nn.modules.conv.Conv             [16, 32, 3, 2]                \n",
      "  2                  -1  1      7360  ultralytics.nn.modules.block.C2f             [32, 32, 1, True]             \n",
      "  3                  -1  1     18560  ultralytics.nn.modules.conv.Conv             [32, 64, 3, 2]                \n",
      "  4                  -1  2     49664  ultralytics.nn.modules.block.C2f             [64, 64, 2, True]             \n",
      "  5                  -1  1     73984  ultralytics.nn.modules.conv.Conv             [64, 128, 3, 2]               \n",
      "  6                  -1  2    197632  ultralytics.nn.modules.block.C2f             [128, 128, 2, True]           \n",
      "  7                  -1  1    295424  ultralytics.nn.modules.conv.Conv             [128, 256, 3, 2]              \n",
      "  8                  -1  1    460288  ultralytics.nn.modules.block.C2f             [256, 256, 1, True]           \n",
      "  9                  -1  1    164608  ultralytics.nn.modules.block.SPPF            [256, 256, 5]                 \n",
      " 10                  -1  1         0  torch.nn.modules.upsampling.Upsample         [None, 2, 'nearest']          \n",
      " 11             [-1, 6]  1         0  ultralytics.nn.modules.conv.Concat           [1]                           \n",
      " 12                  -1  1    148224  ultralytics.nn.modules.block.C2f             [384, 128, 1]                 \n",
      " 13                  -1  1         0  torch.nn.modules.upsampling.Upsample         [None, 2, 'nearest']          \n",
      " 14             [-1, 4]  1         0  ultralytics.nn.modules.conv.Concat           [1]                           \n",
      " 15                  -1  1     37248  ultralytics.nn.modules.block.C2f             [192, 64, 1]                  \n",
      " 16                  -1  1     36992  ultralytics.nn.modules.conv.Conv             [64, 64, 3, 2]                \n",
      " 17            [-1, 12]  1         0  ultralytics.nn.modules.conv.Concat           [1]                           \n",
      " 18                  -1  1    123648  ultralytics.nn.modules.block.C2f             [192, 128, 1]                 \n",
      " 19                  -1  1    147712  ultralytics.nn.modules.conv.Conv             [128, 128, 3, 2]              \n",
      " 20             [-1, 9]  1         0  ultralytics.nn.modules.conv.Concat           [1]                           \n",
      " 21                  -1  1    493056  ultralytics.nn.modules.block.C2f             [384, 256, 1]                 \n",
      " 22        [15, 18, 21]  1    753457  ultralytics.nn.modules.head.Detect           [11, [64, 128, 256]]          \n",
      "Model summary: 225 layers, 3012993 parameters, 3012977 gradients, 8.2 GFLOPs\n",
      "\n",
      "Transferred 319/355 items from pretrained weights\n",
      "Freezing layer 'model.22.dfl.conv.weight'\n"
     ]
    },
    {
     "name": "stderr",
     "output_type": "stream",
     "text": [
      "\u001b[34m\u001b[1mtrain: \u001b[0mScanning /home/mk1MoreBugs/projects/building_hack/datasets/css-data/label\u001b[0m"
     ]
    },
    {
     "name": "stdout",
     "output_type": "stream",
     "text": [
      "\u001b[34m\u001b[1mtrain: \u001b[0mWARNING ⚠️ /home/mk1MoreBugs/projects/building_hack/datasets/css-data/images/train/004720_jpg.rf.afc486560a4004c7cfd67910af31a29c.jpg: 1 duplicate labels removed\n",
      "\u001b[34m\u001b[1mtrain: \u001b[0mWARNING ⚠️ /home/mk1MoreBugs/projects/building_hack/datasets/css-data/images/train/construction-813-_jpg.rf.b085952261fd98f2e76b8065de149b5f.jpg: 1 duplicate labels removed\n"
     ]
    },
    {
     "name": "stderr",
     "output_type": "stream",
     "text": [
      "\n",
      "\u001b[34m\u001b[1mval: \u001b[0mScanning /home/mk1MoreBugs/projects/building_hack/datasets/css-data/labels/\u001b[0m"
     ]
    },
    {
     "name": "stdout",
     "output_type": "stream",
     "text": [
      "\u001b[34m\u001b[1mval: \u001b[0mWARNING ⚠️ /home/mk1MoreBugs/projects/building_hack/datasets/css-data/images/val/-1079-_png_jpg.rf.19092a3937930012f9fd9c1ce57f5a7b.jpg: ignoring corrupt image/label: Label class 5 exceeds dataset class count 4. Possible class labels are 0-3\n",
      "\u001b[34m\u001b[1mval: \u001b[0mWARNING ⚠️ /home/mk1MoreBugs/projects/building_hack/datasets/css-data/images/val/-1429-_png_jpg.rf.78a7894e86c79d018d80fa86f4d000f8.jpg: ignoring corrupt image/label: Label class 5 exceeds dataset class count 4. Possible class labels are 0-3\n",
      "\u001b[34m\u001b[1mval: \u001b[0mWARNING ⚠️ /home/mk1MoreBugs/projects/building_hack/datasets/css-data/images/val/-1969-_png_jpg.rf.41dd58ed3ae83df95fb2417c679d581f.jpg: ignoring corrupt image/label: Label class 5 exceeds dataset class count 4. Possible class labels are 0-3\n",
      "\u001b[34m\u001b[1mval: \u001b[0mWARNING ⚠️ /home/mk1MoreBugs/projects/building_hack/datasets/css-data/images/val/-1989-_png_jpg.rf.8cb3d6087bb86d08e693b4250fbf96e3.jpg: ignoring corrupt image/label: Label class 5 exceeds dataset class count 4. Possible class labels are 0-3\n",
      "\u001b[34m\u001b[1mval: \u001b[0mWARNING ⚠️ /home/mk1MoreBugs/projects/building_hack/datasets/css-data/images/val/-211-_png_jpg.rf.eac228e3993f9027795b6400262811e7.jpg: ignoring corrupt image/label: Label class 7 exceeds dataset class count 4. Possible class labels are 0-3\n",
      "\u001b[34m\u001b[1mval: \u001b[0mWARNING ⚠️ /home/mk1MoreBugs/projects/building_hack/datasets/css-data/images/val/-3154-_png_jpg.rf.f118da2b1c20afb78ff93dc7d558f42c.jpg: ignoring corrupt image/label: Label class 5 exceeds dataset class count 4. Possible class labels are 0-3\n",
      "\u001b[34m\u001b[1mval: \u001b[0mWARNING ⚠️ /home/mk1MoreBugs/projects/building_hack/datasets/css-data/images/val/-3766-_png_jpg.rf.81ead992d4b8047ec7beb28b7532cf0a.jpg: ignoring corrupt image/label: Label class 5 exceeds dataset class count 4. Possible class labels are 0-3\n",
      "\u001b[34m\u001b[1mval: \u001b[0mWARNING ⚠️ /home/mk1MoreBugs/projects/building_hack/datasets/css-data/images/val/004424_jpg.rf.0470713b945b08839105cde711db62d9.jpg: ignoring corrupt image/label: Label class 5 exceeds dataset class count 4. Possible class labels are 0-3\n",
      "\u001b[34m\u001b[1mval: \u001b[0mWARNING ⚠️ /home/mk1MoreBugs/projects/building_hack/datasets/css-data/images/val/005559_jpg.rf.5a5ab91289de227b286efca4418ff73d.jpg: ignoring corrupt image/label: Label class 5 exceeds dataset class count 4. Possible class labels are 0-3\n",
      "\u001b[34m\u001b[1mval: \u001b[0mWARNING ⚠️ /home/mk1MoreBugs/projects/building_hack/datasets/css-data/images/val/00596_jpg.rf.d030c5d98b937d080d75db1c1b269a84.jpg: ignoring corrupt image/label: Label class 5 exceeds dataset class count 4. Possible class labels are 0-3\n",
      "\u001b[34m\u001b[1mval: \u001b[0mWARNING ⚠️ /home/mk1MoreBugs/projects/building_hack/datasets/css-data/images/val/02646_jpg.rf.5c93ba95bdc03808bcf872c7218ac5ef.jpg: ignoring corrupt image/label: Label class 5 exceeds dataset class count 4. Possible class labels are 0-3\n",
      "\u001b[34m\u001b[1mval: \u001b[0mWARNING ⚠️ /home/mk1MoreBugs/projects/building_hack/datasets/css-data/images/val/1125_jpg.rf.2958d0a57630bdde8c3b5c6c560152af.jpg: ignoring corrupt image/label: Label class 6 exceeds dataset class count 4. Possible class labels are 0-3\n",
      "\u001b[34m\u001b[1mval: \u001b[0mWARNING ⚠️ /home/mk1MoreBugs/projects/building_hack/datasets/css-data/images/val/172_jpg.rf.9385682a04a12b6043a2ea893d1f319a.jpg: ignoring corrupt image/label: Label class 6 exceeds dataset class count 4. Possible class labels are 0-3\n",
      "\u001b[34m\u001b[1mval: \u001b[0mWARNING ⚠️ /home/mk1MoreBugs/projects/building_hack/datasets/css-data/images/val/2009_000277_jpg.rf.baccd85360fb8011e7c303066ceac286.jpg: ignoring corrupt image/label: Label class 5 exceeds dataset class count 4. Possible class labels are 0-3\n",
      "\u001b[34m\u001b[1mval: \u001b[0mWARNING ⚠️ /home/mk1MoreBugs/projects/building_hack/datasets/css-data/images/val/2009_000461_jpg.rf.43a28e2d6f1f9d399c92e18ccc9f0bf1.jpg: ignoring corrupt image/label: Label class 5 exceeds dataset class count 4. Possible class labels are 0-3\n",
      "\u001b[34m\u001b[1mval: \u001b[0mWARNING ⚠️ /home/mk1MoreBugs/projects/building_hack/datasets/css-data/images/val/2009_002778_jpg.rf.7c8977ed190a2ce4211ef58f66864066.jpg: ignoring corrupt image/label: Label class 5 exceeds dataset class count 4. Possible class labels are 0-3\n",
      "\u001b[34m\u001b[1mval: \u001b[0mWARNING ⚠️ /home/mk1MoreBugs/projects/building_hack/datasets/css-data/images/val/2009_003991_jpg.rf.c4fadb57b5579062cd4db5463ec3ba74.jpg: ignoring corrupt image/label: Label class 5 exceeds dataset class count 4. Possible class labels are 0-3\n",
      "\u001b[34m\u001b[1mval: \u001b[0mWARNING ⚠️ /home/mk1MoreBugs/projects/building_hack/datasets/css-data/images/val/2009_004100_jpg.rf.6eb0dc058fc0d307a6b0f7f579945e24.jpg: ignoring corrupt image/label: Label class 5 exceeds dataset class count 4. Possible class labels are 0-3\n",
      "\u001b[34m\u001b[1mval: \u001b[0mWARNING ⚠️ /home/mk1MoreBugs/projects/building_hack/datasets/css-data/images/val/4_jpg.rf.a937c41e1fc4d92e9e1f8c2d9efeb87d.jpg: ignoring corrupt image/label: Label class 8 exceeds dataset class count 4. Possible class labels are 0-3\n",
      "\u001b[34m\u001b[1mval: \u001b[0mWARNING ⚠️ /home/mk1MoreBugs/projects/building_hack/datasets/css-data/images/val/518_jpg.rf.73999663994434126ac8b7ac5dbe6b52.jpg: ignoring corrupt image/label: Label class 6 exceeds dataset class count 4. Possible class labels are 0-3\n",
      "\u001b[34m\u001b[1mval: \u001b[0mWARNING ⚠️ /home/mk1MoreBugs/projects/building_hack/datasets/css-data/images/val/644_jpg.rf.39197521b9addbcfa9d3620d85004e2d.jpg: ignoring corrupt image/label: Label class 6 exceeds dataset class count 4. Possible class labels are 0-3\n",
      "\u001b[34m\u001b[1mval: \u001b[0mWARNING ⚠️ /home/mk1MoreBugs/projects/building_hack/datasets/css-data/images/val/681_jpg.rf.7a0a7ef78f7dc01872cc3130dc3b354e.jpg: ignoring corrupt image/label: Label class 6 exceeds dataset class count 4. Possible class labels are 0-3\n",
      "\u001b[34m\u001b[1mval: \u001b[0mWARNING ⚠️ /home/mk1MoreBugs/projects/building_hack/datasets/css-data/images/val/972_jpg.rf.4c6fac866e4928f3da7591fd2c26c2ac.jpg: ignoring corrupt image/label: Label class 6 exceeds dataset class count 4. Possible class labels are 0-3\n",
      "\u001b[34m\u001b[1mval: \u001b[0mWARNING ⚠️ /home/mk1MoreBugs/projects/building_hack/datasets/css-data/images/val/IMG_3093_mp4-22_jpg.rf.ea118a6046b21e9246efd53599dfdc41.jpg: ignoring corrupt image/label: Label class 5 exceeds dataset class count 4. Possible class labels are 0-3\n",
      "\u001b[34m\u001b[1mval: \u001b[0mWARNING ⚠️ /home/mk1MoreBugs/projects/building_hack/datasets/css-data/images/val/IMG_3094_mp4-3_jpg.rf.65429c37fcf92b2ba8cfc9d2180051ef.jpg: ignoring corrupt image/label: Label class 5 exceeds dataset class count 4. Possible class labels are 0-3\n",
      "\u001b[34m\u001b[1mval: \u001b[0mWARNING ⚠️ /home/mk1MoreBugs/projects/building_hack/datasets/css-data/images/val/IMG_3100_mp4-1_jpg.rf.7b4a6df995ec2702dee6e7f8c5b47e14.jpg: ignoring corrupt image/label: Label class 5 exceeds dataset class count 4. Possible class labels are 0-3\n",
      "\u001b[34m\u001b[1mval: \u001b[0mWARNING ⚠️ /home/mk1MoreBugs/projects/building_hack/datasets/css-data/images/val/IMG_3100_mp4-3_jpg.rf.f05ef399880b1ac30e900df4f2fbb3c0.jpg: ignoring corrupt image/label: Label class 5 exceeds dataset class count 4. Possible class labels are 0-3\n",
      "\u001b[34m\u001b[1mval: \u001b[0mWARNING ⚠️ /home/mk1MoreBugs/projects/building_hack/datasets/css-data/images/val/IMG_3103_mp4-16_jpg.rf.d31a50c14cb25c823066fe63793f7792.jpg: ignoring corrupt image/label: Label class 5 exceeds dataset class count 4. Possible class labels are 0-3\n",
      "\u001b[34m\u001b[1mval: \u001b[0mWARNING ⚠️ /home/mk1MoreBugs/projects/building_hack/datasets/css-data/images/val/IMG_3103_mp4-17_jpg.rf.3223d405c1b3657aa54e170e32c8fe52.jpg: ignoring corrupt image/label: Label class 5 exceeds dataset class count 4. Possible class labels are 0-3\n",
      "\u001b[34m\u001b[1mval: \u001b[0mWARNING ⚠️ /home/mk1MoreBugs/projects/building_hack/datasets/css-data/images/val/IMG_3103_mp4-18_jpg.rf.39e564f01ba6048fc34853e99f3de11b.jpg: ignoring corrupt image/label: Label class 5 exceeds dataset class count 4. Possible class labels are 0-3\n",
      "\u001b[34m\u001b[1mval: \u001b[0mWARNING ⚠️ /home/mk1MoreBugs/projects/building_hack/datasets/css-data/images/val/IMG_3103_mp4-8_jpg.rf.d54ebee33e6fd97c282258aabc1e52d7.jpg: ignoring corrupt image/label: Label class 5 exceeds dataset class count 4. Possible class labels are 0-3\n",
      "\u001b[34m\u001b[1mval: \u001b[0mWARNING ⚠️ /home/mk1MoreBugs/projects/building_hack/datasets/css-data/images/val/IMG_4921-2_mp4-122_jpg.rf.d27a983b805c273486c09e20f65a5a6b.jpg: ignoring corrupt image/label: Label class 5 exceeds dataset class count 4. Possible class labels are 0-3\n",
      "\u001b[34m\u001b[1mval: \u001b[0mWARNING ⚠️ /home/mk1MoreBugs/projects/building_hack/datasets/css-data/images/val/IMG_5024_mp4-8_jpg.rf.6b626854d6228eab4c341ddd5f8b5e46.jpg: ignoring corrupt image/label: Label class 5 exceeds dataset class count 4. Possible class labels are 0-3\n",
      "\u001b[34m\u001b[1mval: \u001b[0mWARNING ⚠️ /home/mk1MoreBugs/projects/building_hack/datasets/css-data/images/val/IMG_9949-1-_mp4-20_jpg.rf.6ff2adfaf91058088d86084475d4d575.jpg: ignoring corrupt image/label: Label class 5 exceeds dataset class count 4. Possible class labels are 0-3\n",
      "\u001b[34m\u001b[1mval: \u001b[0mWARNING ⚠️ /home/mk1MoreBugs/projects/building_hack/datasets/css-data/images/val/MariusConePic31_png_jpg.rf.1fd6fccfeef580e0e0061d78d5a248a4.jpg: ignoring corrupt image/label: Label class 6 exceeds dataset class count 4. Possible class labels are 0-3\n",
      "\u001b[34m\u001b[1mval: \u001b[0mWARNING ⚠️ /home/mk1MoreBugs/projects/building_hack/datasets/css-data/images/val/Mask2_mov-11_jpg.rf.34ddcb1a619624541a2cca4400b7cd92.jpg: ignoring corrupt image/label: Label class 5 exceeds dataset class count 4. Possible class labels are 0-3\n",
      "\u001b[34m\u001b[1mval: \u001b[0mWARNING ⚠️ /home/mk1MoreBugs/projects/building_hack/datasets/css-data/images/val/Mask2_mov-15_jpg.rf.026bd9a95154b1ead451a722a25ed130.jpg: ignoring corrupt image/label: Label class 5 exceeds dataset class count 4. Possible class labels are 0-3\n",
      "\u001b[34m\u001b[1mval: \u001b[0mWARNING ⚠️ /home/mk1MoreBugs/projects/building_hack/datasets/css-data/images/val/Movie-on-10-31-22-at-10_08-AM_mov-13_jpg.rf.91dc3b79da617fb2e4321f27f48f21f4.jpg: ignoring corrupt image/label: Label class 5 exceeds dataset class count 4. Possible class labels are 0-3\n",
      "\u001b[34m\u001b[1mval: \u001b[0mWARNING ⚠️ /home/mk1MoreBugs/projects/building_hack/datasets/css-data/images/val/Movie-on-10-31-22-at-10_08-AM_mov-22_jpg.rf.a02b881bb190fa4a30026a648d13d278.jpg: ignoring corrupt image/label: Label class 5 exceeds dataset class count 4. Possible class labels are 0-3\n",
      "\u001b[34m\u001b[1mval: \u001b[0mWARNING ⚠️ /home/mk1MoreBugs/projects/building_hack/datasets/css-data/images/val/Movie-on-10-31-22-at-10_08-AM_mov-6_jpg.rf.344372295a53aaf103587c9714ec98f7.jpg: ignoring corrupt image/label: Label class 5 exceeds dataset class count 4. Possible class labels are 0-3\n",
      "\u001b[34m\u001b[1mval: \u001b[0mWARNING ⚠️ /home/mk1MoreBugs/projects/building_hack/datasets/css-data/images/val/RPReplay_Final1667001201_MP4-454_jpg.rf.74024a799f518f9a6314ed301827eb1b.jpg: ignoring corrupt image/label: Label class 5 exceeds dataset class count 4. Possible class labels are 0-3\n",
      "\u001b[34m\u001b[1mval: \u001b[0mWARNING ⚠️ /home/mk1MoreBugs/projects/building_hack/datasets/css-data/images/val/YouTube_FreeStockFootage_People-wearing-face-mask_Empty-Street_Covid19-D_DbgrvhlGs-720p_mp4-66_jpg.rf.72af13fb1f20520e0d41547037ced88b.jpg: ignoring corrupt image/label: Label class 5 exceeds dataset class count 4. Possible class labels are 0-3\n",
      "\u001b[34m\u001b[1mval: \u001b[0mWARNING ⚠️ /home/mk1MoreBugs/projects/building_hack/datasets/css-data/images/val/airport_inside_0090_jpg.rf.663e21100a3c4bc66a41cceba5403e51.jpg: ignoring corrupt image/label: Label class 5 exceeds dataset class count 4. Possible class labels are 0-3\n",
      "\u001b[34m\u001b[1mval: \u001b[0mWARNING ⚠️ /home/mk1MoreBugs/projects/building_hack/datasets/css-data/images/val/autox3_mp4-78_jpg.rf.dc5c00104c4cf733c2c06c820b82d338.jpg: ignoring corrupt image/label: Label class 9 exceeds dataset class count 4. Possible class labels are 0-3\n",
      "\u001b[34m\u001b[1mval: \u001b[0mWARNING ⚠️ /home/mk1MoreBugs/projects/building_hack/datasets/css-data/images/val/autox4_mp4-63_jpg.rf.b0fab4fd2c947536a122d6f2e7cca895.jpg: ignoring corrupt image/label: Label class 9 exceeds dataset class count 4. Possible class labels are 0-3\n",
      "\u001b[34m\u001b[1mval: \u001b[0mWARNING ⚠️ /home/mk1MoreBugs/projects/building_hack/datasets/css-data/images/val/autox4_mp4-72_jpg.rf.5e9c1836f027bf40eb8898e68f2efdeb.jpg: ignoring corrupt image/label: Label class 9 exceeds dataset class count 4. Possible class labels are 0-3\n",
      "\u001b[34m\u001b[1mval: \u001b[0mWARNING ⚠️ /home/mk1MoreBugs/projects/building_hack/datasets/css-data/images/val/class1_077_jpg.rf.84c3583c1866262daeb1618b80e18df9.jpg: ignoring corrupt image/label: Label class 7 exceeds dataset class count 4. Possible class labels are 0-3\n",
      "\u001b[34m\u001b[1mval: \u001b[0mWARNING ⚠️ /home/mk1MoreBugs/projects/building_hack/datasets/css-data/images/val/class1_206_jpg.rf.3988ff665e55e1cd9dbcd22c87be73d9.jpg: ignoring corrupt image/label: Label class 5 exceeds dataset class count 4. Possible class labels are 0-3\n",
      "\u001b[34m\u001b[1mval: \u001b[0mWARNING ⚠️ /home/mk1MoreBugs/projects/building_hack/datasets/css-data/images/val/class1_267_jpg.rf.ab7a08d97aba5b0748e976df6e65700a.jpg: ignoring corrupt image/label: Label class 5 exceeds dataset class count 4. Possible class labels are 0-3\n",
      "\u001b[34m\u001b[1mval: \u001b[0mWARNING ⚠️ /home/mk1MoreBugs/projects/building_hack/datasets/css-data/images/val/construction-1-_mp4-147_jpg.rf.a9062a80b06ac796f7afb269e5f18c53.jpg: ignoring corrupt image/label: Label class 8 exceeds dataset class count 4. Possible class labels are 0-3\n",
      "\u001b[34m\u001b[1mval: \u001b[0mWARNING ⚠️ /home/mk1MoreBugs/projects/building_hack/datasets/css-data/images/val/construction-1023-_jpg.rf.7b73352606fb1d79619d34031c07a232.jpg: ignoring corrupt image/label: Label class 8 exceeds dataset class count 4. Possible class labels are 0-3\n",
      "\u001b[34m\u001b[1mval: \u001b[0mWARNING ⚠️ /home/mk1MoreBugs/projects/building_hack/datasets/css-data/images/val/construction-1027-_jpg.rf.e78f55761814a8726ea51993407957af.jpg: ignoring corrupt image/label: Label class 8 exceeds dataset class count 4. Possible class labels are 0-3\n",
      "\u001b[34m\u001b[1mval: \u001b[0mWARNING ⚠️ /home/mk1MoreBugs/projects/building_hack/datasets/css-data/images/val/construction-1037-_jpg.rf.c44151f7f28c4da9757409953b1bff55.jpg: ignoring corrupt image/label: Label class 8 exceeds dataset class count 4. Possible class labels are 0-3\n",
      "\u001b[34m\u001b[1mval: \u001b[0mWARNING ⚠️ /home/mk1MoreBugs/projects/building_hack/datasets/css-data/images/val/construction-1114-_jpg.rf.69b25d38992eb6da67701a614f0a3f97.jpg: ignoring corrupt image/label: Label class 8 exceeds dataset class count 4. Possible class labels are 0-3\n",
      "\u001b[34m\u001b[1mval: \u001b[0mWARNING ⚠️ /home/mk1MoreBugs/projects/building_hack/datasets/css-data/images/val/construction-196-_jpg.rf.f593da25134315b48b325fb42436a01a.jpg: ignoring corrupt image/label: Label class 8 exceeds dataset class count 4. Possible class labels are 0-3\n",
      "\u001b[34m\u001b[1mval: \u001b[0mWARNING ⚠️ /home/mk1MoreBugs/projects/building_hack/datasets/css-data/images/val/construction-2-_mp4-149_jpg.rf.c6d3939d4743a346de668a0ae05accbc.jpg: ignoring corrupt image/label: Label class 8 exceeds dataset class count 4. Possible class labels are 0-3\n",
      "\u001b[34m\u001b[1mval: \u001b[0mWARNING ⚠️ /home/mk1MoreBugs/projects/building_hack/datasets/css-data/images/val/construction-2-_mp4-38_jpg.rf.0bb63aba0a9ebe5a4741a6207e2e1902.jpg: ignoring corrupt image/label: Label class 8 exceeds dataset class count 4. Possible class labels are 0-3\n",
      "\u001b[34m\u001b[1mval: \u001b[0mWARNING ⚠️ /home/mk1MoreBugs/projects/building_hack/datasets/css-data/images/val/construction-274-_jpg.rf.21181010ffb2b9ea429080ccd258e3ae.jpg: ignoring corrupt image/label: Label class 8 exceeds dataset class count 4. Possible class labels are 0-3\n",
      "\u001b[34m\u001b[1mval: \u001b[0mWARNING ⚠️ /home/mk1MoreBugs/projects/building_hack/datasets/css-data/images/val/construction-277-_jpg.rf.bf73a4edc7a1f7d412bc3267cbafcda7.jpg: ignoring corrupt image/label: Label class 9 exceeds dataset class count 4. Possible class labels are 0-3\n",
      "\u001b[34m\u001b[1mval: \u001b[0mWARNING ⚠️ /home/mk1MoreBugs/projects/building_hack/datasets/css-data/images/val/construction-3-_mp4-219_jpg.rf.416dbf917b54d5895e2430fa0d6f1b66.jpg: ignoring corrupt image/label: Label class 8 exceeds dataset class count 4. Possible class labels are 0-3\n",
      "\u001b[34m\u001b[1mval: \u001b[0mWARNING ⚠️ /home/mk1MoreBugs/projects/building_hack/datasets/css-data/images/val/construction-3-_mp4-21_jpg.rf.4fc9ff5afc8387b5c673a424781c527c.jpg: ignoring corrupt image/label: Label class 8 exceeds dataset class count 4. Possible class labels are 0-3\n",
      "\u001b[34m\u001b[1mval: \u001b[0mWARNING ⚠️ /home/mk1MoreBugs/projects/building_hack/datasets/css-data/images/val/construction-4-_mp4-20_jpg.rf.cb627b855fa08d83357febb83f6ad4bc.jpg: ignoring corrupt image/label: Label class 8 exceeds dataset class count 4. Possible class labels are 0-3\n",
      "\u001b[34m\u001b[1mval: \u001b[0mWARNING ⚠️ /home/mk1MoreBugs/projects/building_hack/datasets/css-data/images/val/construction-711-_jpg.rf.50a19be8c0ae3cd1a82cd543a9bb6a14.jpg: ignoring corrupt image/label: Label class 8 exceeds dataset class count 4. Possible class labels are 0-3\n",
      "\u001b[34m\u001b[1mval: \u001b[0mWARNING ⚠️ /home/mk1MoreBugs/projects/building_hack/datasets/css-data/images/val/construction-823-_jpg.rf.640d8abfc7c7689d4a19e6aa00ac8984.jpg: ignoring corrupt image/label: Label class 8 exceeds dataset class count 4. Possible class labels are 0-3\n",
      "\u001b[34m\u001b[1mval: \u001b[0mWARNING ⚠️ /home/mk1MoreBugs/projects/building_hack/datasets/css-data/images/val/construction-9-_jpg.rf.c2af6f04317b1ea7d6e2a84d776788a2.jpg: ignoring corrupt image/label: Label class 8 exceeds dataset class count 4. Possible class labels are 0-3\n",
      "\u001b[34m\u001b[1mval: \u001b[0mWARNING ⚠️ /home/mk1MoreBugs/projects/building_hack/datasets/css-data/images/val/img_08_jpg.rf.0f132a9c7ca6d12a8a9d1c4b3dbd54da.jpg: ignoring corrupt image/label: Label class 5 exceeds dataset class count 4. Possible class labels are 0-3\n",
      "\u001b[34m\u001b[1mval: \u001b[0mWARNING ⚠️ /home/mk1MoreBugs/projects/building_hack/datasets/css-data/images/val/mms_00684_jpg.rf.47567bbd99db89023296aad0b965ff02.jpg: ignoring corrupt image/label: Label class 6 exceeds dataset class count 4. Possible class labels are 0-3\n",
      "\u001b[34m\u001b[1mval: \u001b[0mWARNING ⚠️ /home/mk1MoreBugs/projects/building_hack/datasets/css-data/images/val/ppe_0064_jpg.rf.f019b082d09af2750a81ef5ea3fcbc3e.jpg: ignoring corrupt image/label: Label class 7 exceeds dataset class count 4. Possible class labels are 0-3\n",
      "\u001b[34m\u001b[1mval: \u001b[0mWARNING ⚠️ /home/mk1MoreBugs/projects/building_hack/datasets/css-data/images/val/ppe_0355_jpg.rf.508753d5b708536eca53de192b927c61.jpg: ignoring corrupt image/label: Label class 7 exceeds dataset class count 4. Possible class labels are 0-3\n",
      "\u001b[34m\u001b[1mval: \u001b[0mWARNING ⚠️ /home/mk1MoreBugs/projects/building_hack/datasets/css-data/images/val/ppe_0665_jpg.rf.1dad479f7f54b2a7127cf18ef74ffd85.jpg: ignoring corrupt image/label: Label class 9 exceeds dataset class count 4. Possible class labels are 0-3\n",
      "\u001b[34m\u001b[1mval: \u001b[0mWARNING ⚠️ /home/mk1MoreBugs/projects/building_hack/datasets/css-data/images/val/ppe_1228_jpg.rf.29b714c415ea74df3160f56a603463a0.jpg: ignoring corrupt image/label: Label class 7 exceeds dataset class count 4. Possible class labels are 0-3\n",
      "\u001b[34m\u001b[1mval: \u001b[0mWARNING ⚠️ /home/mk1MoreBugs/projects/building_hack/datasets/css-data/images/val/residential_jpg.rf.17181770c64333009b9101e1572c5112.jpg: ignoring corrupt image/label: Label class 5 exceeds dataset class count 4. Possible class labels are 0-3\n",
      "\u001b[34m\u001b[1mval: \u001b[0mWARNING ⚠️ /home/mk1MoreBugs/projects/building_hack/datasets/css-data/images/val/soooo_jpg.rf.5980d39f656b4d62672d2164173455e3.jpg: ignoring corrupt image/label: Label class 5 exceeds dataset class count 4. Possible class labels are 0-3\n",
      "\u001b[34m\u001b[1mval: \u001b[0mWARNING ⚠️ /home/mk1MoreBugs/projects/building_hack/datasets/css-data/images/val/video_CDC-YOUTUBE_mp4-42_jpg.rf.bbc5cf2369c54126f61f0b1f71f77d8d.jpg: ignoring corrupt image/label: Label class 5 exceeds dataset class count 4. Possible class labels are 0-3\n",
      "\u001b[34m\u001b[1mval: \u001b[0mWARNING ⚠️ /home/mk1MoreBugs/projects/building_hack/datasets/css-data/images/val/youtube-118_jpg.rf.9dc8b46dfbac73d9e4f983964355d7ac.jpg: ignoring corrupt image/label: Label class 5 exceeds dataset class count 4. Possible class labels are 0-3\n",
      "\u001b[34m\u001b[1mval: \u001b[0mWARNING ⚠️ /home/mk1MoreBugs/projects/building_hack/datasets/css-data/images/val/youtube-179_jpg.rf.bab3fbda351095d3b9aaba8007e3aa87.jpg: ignoring corrupt image/label: Label class 9 exceeds dataset class count 4. Possible class labels are 0-3\n",
      "\u001b[34m\u001b[1mval: \u001b[0mWARNING ⚠️ /home/mk1MoreBugs/projects/building_hack/datasets/css-data/images/val/youtube-194_jpg.rf.601da70a10e87c30c693ffbee53b17a7.jpg: ignoring corrupt image/label: Label class 8 exceeds dataset class count 4. Possible class labels are 0-3\n",
      "\u001b[34m\u001b[1mval: \u001b[0mWARNING ⚠️ /home/mk1MoreBugs/projects/building_hack/datasets/css-data/images/val/youtube-200_jpg.rf.2c8aaf9fb58df4a3af442c293217d0c5.jpg: ignoring corrupt image/label: Label class 7 exceeds dataset class count 4. Possible class labels are 0-3\n",
      "\u001b[34m\u001b[1mval: \u001b[0mWARNING ⚠️ /home/mk1MoreBugs/projects/building_hack/datasets/css-data/images/val/youtube-226_jpg.rf.dd9d045ca17155289bcebe722e8a86e9.jpg: ignoring corrupt image/label: Label class 8 exceeds dataset class count 4. Possible class labels are 0-3\n",
      "\u001b[34m\u001b[1mval: \u001b[0mWARNING ⚠️ /home/mk1MoreBugs/projects/building_hack/datasets/css-data/images/val/youtube-226_jpg.rf.e6dcacf16dc2dbcfd29f6705b7c1a224.jpg: ignoring corrupt image/label: Label class 7 exceeds dataset class count 4. Possible class labels are 0-3\n",
      "\u001b[34m\u001b[1mval: \u001b[0mWARNING ⚠️ /home/mk1MoreBugs/projects/building_hack/datasets/css-data/images/val/youtube-255_jpg.rf.c5a9f8ed208cb72e1a700ba52dc2fdfa.jpg: ignoring corrupt image/label: Label class 9 exceeds dataset class count 4. Possible class labels are 0-3\n",
      "\u001b[34m\u001b[1mval: \u001b[0mWARNING ⚠️ /home/mk1MoreBugs/projects/building_hack/datasets/css-data/images/val/youtube-260_jpg.rf.76ba0c9fa66318daee5bea72b83b4cc5.jpg: ignoring corrupt image/label: Label class 9 exceeds dataset class count 4. Possible class labels are 0-3\n",
      "\u001b[34m\u001b[1mval: \u001b[0mWARNING ⚠️ /home/mk1MoreBugs/projects/building_hack/datasets/css-data/images/val/youtube-267_jpg.rf.acd9b5f407f573eaa830029418345ad3.jpg: ignoring corrupt image/label: Label class 9 exceeds dataset class count 4. Possible class labels are 0-3\n",
      "\u001b[34m\u001b[1mval: \u001b[0mWARNING ⚠️ /home/mk1MoreBugs/projects/building_hack/datasets/css-data/images/val/youtube-277_jpg.rf.1bda1581c28b4f6cccd5eda6b23b94ee.jpg: ignoring corrupt image/label: Label class 9 exceeds dataset class count 4. Possible class labels are 0-3\n",
      "\u001b[34m\u001b[1mval: \u001b[0mWARNING ⚠️ /home/mk1MoreBugs/projects/building_hack/datasets/css-data/images/val/youtube-287_jpg.rf.c9a7d5b17f75d0c9ed62ad4127141aa2.jpg: ignoring corrupt image/label: Label class 7 exceeds dataset class count 4. Possible class labels are 0-3\n",
      "\u001b[34m\u001b[1mval: \u001b[0mWARNING ⚠️ /home/mk1MoreBugs/projects/building_hack/datasets/css-data/images/val/youtube-308_jpg.rf.790ae393e769f8e6280734b7506523ab.jpg: ignoring corrupt image/label: Label class 5 exceeds dataset class count 4. Possible class labels are 0-3\n",
      "\u001b[34m\u001b[1mval: \u001b[0mWARNING ⚠️ /home/mk1MoreBugs/projects/building_hack/datasets/css-data/images/val/youtube-342_jpg.rf.d7e55a17800f8d87313d7b6f33256ea9.jpg: ignoring corrupt image/label: Label class 9 exceeds dataset class count 4. Possible class labels are 0-3\n",
      "\u001b[34m\u001b[1mval: \u001b[0mWARNING ⚠️ /home/mk1MoreBugs/projects/building_hack/datasets/css-data/images/val/youtube-367_jpg.rf.fab8b016cb63c0928f40849db44ee98d.jpg: ignoring corrupt image/label: Label class 9 exceeds dataset class count 4. Possible class labels are 0-3\n",
      "\u001b[34m\u001b[1mval: \u001b[0mWARNING ⚠️ /home/mk1MoreBugs/projects/building_hack/datasets/css-data/images/val/youtube-391_jpg.rf.2744ad86e8dbd4366f1fa839accc48b3.jpg: ignoring corrupt image/label: Label class 7 exceeds dataset class count 4. Possible class labels are 0-3\n",
      "\u001b[34m\u001b[1mval: \u001b[0mWARNING ⚠️ /home/mk1MoreBugs/projects/building_hack/datasets/css-data/images/val/youtube-392_jpg.rf.7e49e3a8486caaa4e9d82246de93e68e.jpg: ignoring corrupt image/label: Label class 7 exceeds dataset class count 4. Possible class labels are 0-3\n",
      "\u001b[34m\u001b[1mval: \u001b[0mWARNING ⚠️ /home/mk1MoreBugs/projects/building_hack/datasets/css-data/images/val/youtube-399_jpg.rf.3472ef7c01bb9092da48f0d562581121.jpg: ignoring corrupt image/label: Label class 9 exceeds dataset class count 4. Possible class labels are 0-3\n",
      "\u001b[34m\u001b[1mval: \u001b[0mWARNING ⚠️ /home/mk1MoreBugs/projects/building_hack/datasets/css-data/images/val/youtube-405_jpg.rf.6d1fc463659ac0d8e735bc1e731086a0.jpg: ignoring corrupt image/label: Label class 7 exceeds dataset class count 4. Possible class labels are 0-3\n",
      "\u001b[34m\u001b[1mval: \u001b[0mWARNING ⚠️ /home/mk1MoreBugs/projects/building_hack/datasets/css-data/images/val/youtube-416_jpg.rf.8b5d7c27337f84a1cd2b3e8b7c6435a7.jpg: ignoring corrupt image/label: Label class 7 exceeds dataset class count 4. Possible class labels are 0-3\n",
      "\u001b[34m\u001b[1mval: \u001b[0mWARNING ⚠️ /home/mk1MoreBugs/projects/building_hack/datasets/css-data/images/val/youtube-455_jpg.rf.35acd2e91608806a26f3ac4e784ea512.jpg: ignoring corrupt image/label: Label class 9 exceeds dataset class count 4. Possible class labels are 0-3\n",
      "\u001b[34m\u001b[1mval: \u001b[0mWARNING ⚠️ /home/mk1MoreBugs/projects/building_hack/datasets/css-data/images/val/youtube-470_jpg.rf.6aebf4cfb6c5a7e703c6532ca5090517.jpg: ignoring corrupt image/label: Label class 7 exceeds dataset class count 4. Possible class labels are 0-3\n",
      "\u001b[34m\u001b[1mval: \u001b[0mWARNING ⚠️ /home/mk1MoreBugs/projects/building_hack/datasets/css-data/images/val/youtube-487_jpg.rf.5f1c67ece433c16da8ed3c9200ef4b5f.jpg: ignoring corrupt image/label: Label class 7 exceeds dataset class count 4. Possible class labels are 0-3\n",
      "\u001b[34m\u001b[1mval: \u001b[0mWARNING ⚠️ /home/mk1MoreBugs/projects/building_hack/datasets/css-data/images/val/youtube-504_jpg.rf.23771986686856ac7d350cea84ddf611.jpg: ignoring corrupt image/label: Label class 9 exceeds dataset class count 4. Possible class labels are 0-3\n",
      "\u001b[34m\u001b[1mval: \u001b[0mWARNING ⚠️ /home/mk1MoreBugs/projects/building_hack/datasets/css-data/images/val/youtube-584_jpg.rf.3136186a0786384c1ffc261f4d40ea42.jpg: ignoring corrupt image/label: Label class 7 exceeds dataset class count 4. Possible class labels are 0-3\n",
      "\u001b[34m\u001b[1mval: \u001b[0mWARNING ⚠️ /home/mk1MoreBugs/projects/building_hack/datasets/css-data/images/val/youtube-617_jpg.rf.309ef116f1d9074886d61bb0816b6b9e.jpg: ignoring corrupt image/label: Label class 7 exceeds dataset class count 4. Possible class labels are 0-3\n",
      "\u001b[34m\u001b[1mval: \u001b[0mWARNING ⚠️ /home/mk1MoreBugs/projects/building_hack/datasets/css-data/images/val/youtube-619_jpg.rf.93749f0e33b2f7beb302dd2e176d768a.jpg: ignoring corrupt image/label: Label class 7 exceeds dataset class count 4. Possible class labels are 0-3\n",
      "\u001b[34m\u001b[1mval: \u001b[0mWARNING ⚠️ /home/mk1MoreBugs/projects/building_hack/datasets/css-data/images/val/youtube-697_jpg.rf.950b34f23e196850ec51a4add2eeb840.jpg: ignoring corrupt image/label: Label class 8 exceeds dataset class count 4. Possible class labels are 0-3\n",
      "\u001b[34m\u001b[1mval: \u001b[0mWARNING ⚠️ /home/mk1MoreBugs/projects/building_hack/datasets/css-data/images/val/youtube-70_jpg.rf.2d5f69c78f062dfc572ccb6ce6bc3c9b.jpg: ignoring corrupt image/label: Label class 8 exceeds dataset class count 4. Possible class labels are 0-3\n",
      "\u001b[34m\u001b[1mval: \u001b[0mWARNING ⚠️ /home/mk1MoreBugs/projects/building_hack/datasets/css-data/images/val/youtube-727_jpg.rf.cb4c039b4ffea84835e67e2e3d2edf6e.jpg: ignoring corrupt image/label: Label class 8 exceeds dataset class count 4. Possible class labels are 0-3\n",
      "\u001b[34m\u001b[1mval: \u001b[0mWARNING ⚠️ /home/mk1MoreBugs/projects/building_hack/datasets/css-data/images/val/youtube-836_jpg.rf.df6fc9e569e7b6b850ecb75c37781d10.jpg: ignoring corrupt image/label: Label class 9 exceeds dataset class count 4. Possible class labels are 0-3\n",
      "WARNING ⚠️ No labels found in /home/mk1MoreBugs/projects/building_hack/datasets/css-data/labels/val.cache, training may not work correctly. See https://docs.ultralytics.com/datasets for dataset formatting guidance.\n",
      "Plotting labels to runs/detect/train9/labels.jpg... \n"
     ]
    },
    {
     "name": "stderr",
     "output_type": "stream",
     "text": [
      "\n"
     ]
    },
    {
     "name": "stdout",
     "output_type": "stream",
     "text": [
      "\u001b[34m\u001b[1moptimizer:\u001b[0m 'optimizer=auto' found, ignoring 'lr0=0.01' and 'momentum=0.937' and determining best 'optimizer', 'lr0' and 'momentum' automatically... \n",
      "\u001b[34m\u001b[1moptimizer:\u001b[0m AdamW(lr=0.000667, momentum=0.9) with parameter groups 57 weight(decay=0.0), 64 weight(decay=0.0005), 63 bias(decay=0.0)\n",
      "Image sizes 640 train, 640 val\n",
      "Using 0 dataloader workers\n",
      "Logging results to \u001b[1mruns/detect/train9\u001b[0m\n",
      "Starting training for 1 epochs...\n",
      "\n",
      "      Epoch    GPU_mem   box_loss   cls_loss   dfl_loss  Instances       Size\n"
     ]
    },
    {
     "name": "stderr",
     "output_type": "stream",
     "text": [
      "        1/1         0G      1.396      2.851      1.496        313        640: 1\n",
      "                 Class     Images  Instances      Box(P          R      mAP50  m"
     ]
    },
    {
     "name": "stdout",
     "output_type": "stream",
     "text": [
      "                   all         10          0          0          0          0          0\n",
      "WARNING ⚠️ no labels found in detect set, can not compute metrics without labels\n"
     ]
    },
    {
     "name": "stderr",
     "output_type": "stream",
     "text": [
      "\n"
     ]
    },
    {
     "name": "stdout",
     "output_type": "stream",
     "text": [
      "\n",
      "1 epochs completed in 0.542 hours.\n",
      "Optimizer stripped from runs/detect/train9/weights/last.pt, 6.2MB\n",
      "Optimizer stripped from runs/detect/train9/weights/best.pt, 6.2MB\n",
      "\n",
      "Validating runs/detect/train9/weights/best.pt...\n",
      "Ultralytics YOLOv8.2.32 🚀 Python-3.11.7 torch-2.3.1 CPU (AMD Ryzen 5 5500U with Radeon Graphics)\n",
      "Model summary (fused): 168 layers, 3007793 parameters, 0 gradients, 8.1 GFLOPs\n"
     ]
    },
    {
     "name": "stderr",
     "output_type": "stream",
     "text": [
      "                 Class     Images  Instances      Box(P          R      mAP50  m"
     ]
    },
    {
     "name": "stdout",
     "output_type": "stream",
     "text": [
      "                   all         10          0          0          0          0          0\n",
      "WARNING ⚠️ no labels found in detect set, can not compute metrics without labels\n"
     ]
    },
    {
     "name": "stderr",
     "output_type": "stream",
     "text": [
      "\n"
     ]
    },
    {
     "name": "stdout",
     "output_type": "stream",
     "text": [
      "Speed: 3.1ms preprocess, 194.8ms inference, 0.0ms loss, 5.3ms postprocess per image\n",
      "Results saved to \u001b[1mruns/detect/train9\u001b[0m\n",
      "\n",
      "image 1/1 /home/mk1MoreBugs/projects/building_hack/yolov5/../datasets/css-data/images/train/-1670-_png_jpg.rf.3cb172ea2c4165c19ae2dd498b38f929.jpg: 640x640 1 Class 1, 7 Class 6s, 2 Class 7s, 1 Class 8, 1 Class 9, 279.9ms\n",
      "Speed: 9.1ms preprocess, 279.9ms inference, 6.1ms postprocess per image at shape (1, 3, 640, 640)\n"
     ]
    }
   ],
   "source": [
    "\n",
    "model = YOLO(\"yolov8n.pt\")\n",
    "model.info()\n",
    "\n",
    "\n",
    "results = model.train(data=\"../dataset.yaml\", epochs=1, imgsz=640)\n",
    "\n",
    "# Run inference with the YOLOv8n model on the 'bus.jpg' image\n",
    "results = model(\"../datasets/css-data/images/train/-1670-_png_jpg.rf.3cb172ea2c4165c19ae2dd498b38f929.jpg\")"
   ]
  },
  {
   "cell_type": "code",
   "execution_count": 35,
   "id": "21d36dab-ae07-4e2b-9a99-a3d64bbe8290",
   "metadata": {},
   "outputs": [
    {
     "name": "stdout",
     "output_type": "stream",
     "text": [
      "\n",
      "image 1/1 /home/mk1MoreBugs/projects/building_hack/yolov5/../datasets/css-data/images/test/004763_jpg.rf.46484e6ca73caeaa9de45822cf1085a9.jpg: 640x640 2 Class 1s, 1 Class 3, 2 Class 5s, 2 Class 6s, 786.9ms\n",
      "Speed: 193.8ms preprocess, 786.9ms inference, 0.7ms postprocess per image at shape (1, 3, 640, 640)\n"
     ]
    }
   ],
   "source": [
    "results = model(\"../datasets/css-data/images/test/004763_jpg.rf.46484e6ca73caeaa9de45822cf1085a9.jpg\")\n",
    "\n",
    "for result in results:\n",
    "    boxes = result.boxes  # Boxes object for bounding box outputs\n",
    "    masks = result.masks  # Masks object for segmentation masks outputs\n",
    "    keypoints = result.keypoints  # Keypoints object for pose outputs\n",
    "    probs = result.probs  # Probs object for classification outputs\n",
    "    obb = result.obb  # Oriented boxes object for OBB outputs\n",
    "    result.show()  # display to screen\n",
    "    result.save(filename=\"result.jpg\")  # save to disk"
   ]
  },
  {
   "cell_type": "code",
   "execution_count": 27,
   "id": "31a3e46f-86a8-49ed-9c75-5e78fca3fce8",
   "metadata": {},
   "outputs": [
    {
     "name": "stdout",
     "output_type": "stream",
     "text": [
      "Ultralytics YOLOv8.2.32 🚀 Python-3.11.7 torch-2.3.1 CPU (AMD Ryzen 5 5500U with Radeon Graphics)\n",
      "\n",
      "\u001b[34m\u001b[1mPyTorch:\u001b[0m starting from 'runs/detect/train9/weights/best.pt' with input shape (1, 3, 640, 640) BCHW and output shape(s) (1, 15, 8400) (6.0 MB)\n",
      "\u001b[31m\u001b[1mrequirements:\u001b[0m Ultralytics requirement ['onnx>=1.12.0'] not found, attempting AutoUpdate...\n",
      "Collecting onnx>=1.12.0\n",
      "  Downloading onnx-1.16.1-cp311-cp311-manylinux_2_17_x86_64.manylinux2014_x86_64.whl.metadata (16 kB)\n",
      "Requirement already satisfied: numpy>=1.20 in /home/mk1MoreBugs/anaconda3/lib/python3.11/site-packages (from onnx>=1.12.0) (1.26.4)\n",
      "Requirement already satisfied: protobuf>=3.20.2 in /home/mk1MoreBugs/anaconda3/lib/python3.11/site-packages (from onnx>=1.12.0) (3.20.3)\n",
      "Downloading onnx-1.16.1-cp311-cp311-manylinux_2_17_x86_64.manylinux2014_x86_64.whl (15.9 MB)\n",
      "\u001b[2K   \u001b[38;2;114;156;31m━━━━━━━━━━━━━━━━━━━━━━━━━━━━━━━━━━━━━━━━\u001b[0m \u001b[32m15.9/15.9 MB\u001b[0m \u001b[31m4.9 MB/s\u001b[0m eta \u001b[36m0:00:00\u001b[0mm eta \u001b[36m0:00:01\u001b[0m[36m0:00:01\u001b[0m\n",
      "\u001b[?25hInstalling collected packages: onnx\n",
      "Successfully installed onnx-1.16.1\n",
      "\n",
      "\u001b[31m\u001b[1mrequirements:\u001b[0m AutoUpdate success ✅ 8.7s, installed 1 package: ['onnx>=1.12.0']\n",
      "\u001b[31m\u001b[1mrequirements:\u001b[0m ⚠️ \u001b[1mRestart runtime or rerun command for updates to take effect\u001b[0m\n",
      "\n",
      "\n",
      "\u001b[34m\u001b[1mONNX:\u001b[0m starting export with onnx 1.16.1 opset 17...\n",
      "\u001b[34m\u001b[1mONNX:\u001b[0m export success ✅ 10.8s, saved as 'runs/detect/train9/weights/best.onnx' (11.7 MB)\n",
      "\n",
      "Export complete (12.8s)\n",
      "Results saved to \u001b[1m/home/mk1MoreBugs/projects/building_hack/yolov5/runs/detect/train9/weights\u001b[0m\n",
      "Predict:         yolo predict task=detect model=runs/detect/train9/weights/best.onnx imgsz=640  \n",
      "Validate:        yolo val task=detect model=runs/detect/train9/weights/best.onnx imgsz=640 data=../dataset.yaml  \n",
      "Visualize:       https://netron.app\n"
     ]
    },
    {
     "data": {
      "text/plain": [
       "'runs/detect/train9/weights/best.onnx'"
      ]
     },
     "execution_count": 27,
     "metadata": {},
     "output_type": "execute_result"
    }
   ],
   "source": [
    "model.export(format=\"onnx\")"
   ]
  },
  {
   "cell_type": "code",
   "execution_count": null,
   "id": "6f10c7ec-05da-40fd-94ac-35c99c150c6c",
   "metadata": {},
   "outputs": [],
   "source": []
  }
 ],
 "metadata": {
  "kernelspec": {
   "display_name": "Python 3 (ipykernel)",
   "language": "python",
   "name": "python3"
  },
  "language_info": {
   "codemirror_mode": {
    "name": "ipython",
    "version": 3
   },
   "file_extension": ".py",
   "mimetype": "text/x-python",
   "name": "python",
   "nbconvert_exporter": "python",
   "pygments_lexer": "ipython3",
   "version": "3.11.7"
  }
 },
 "nbformat": 4,
 "nbformat_minor": 5
}
